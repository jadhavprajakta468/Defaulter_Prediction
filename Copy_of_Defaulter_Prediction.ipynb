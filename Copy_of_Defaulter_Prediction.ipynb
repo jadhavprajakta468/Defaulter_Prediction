{
  "cells": [
    {
      "cell_type": "markdown",
      "metadata": {
        "id": "view-in-github",
        "colab_type": "text"
      },
      "source": [
        "<a href=\"https://colab.research.google.com/github/jadhavprajakta468/Defaulter_Prediction/blob/main/Copy_of_Defaulter_Prediction.ipynb\" target=\"_parent\"><img src=\"https://colab.research.google.com/assets/colab-badge.svg\" alt=\"Open In Colab\"/></a>"
      ]
    },
    {
      "cell_type": "markdown",
      "metadata": {
        "id": "3GX7iXsLJ-xx"
      },
      "source": [
        "Mount Google drive"
      ]
    },
    {
      "cell_type": "code",
      "execution_count": null,
      "metadata": {
        "colab": {
          "base_uri": "https://localhost:8080/"
        },
        "id": "B6nOotaArvRH",
        "outputId": "fe5d758f-48a8-44dc-ce8a-4002a6f9dcfb"
      },
      "outputs": [
        {
          "output_type": "stream",
          "name": "stdout",
          "text": [
            "Mounted at /content/drive\n"
          ]
        }
      ],
      "source": [
        "from google.colab import drive\n",
        "drive.mount('/content/drive')"
      ]
    },
    {
      "cell_type": "markdown",
      "source": [
        "Import necessary libraries"
      ],
      "metadata": {
        "id": "6sLsCp2sw5ad"
      }
    },
    {
      "cell_type": "code",
      "execution_count": null,
      "metadata": {
        "id": "MNIWl_HsdI9T"
      },
      "outputs": [],
      "source": [
        "import pandas as pd\n",
        "from sklearn.model_selection import train_test_split\n",
        "from sklearn.preprocessing import LabelEncoder\n",
        "from sklearn.neighbors import KNeighborsClassifier\n",
        "from sklearn.metrics import classification_report\n",
        "from scipy import stats\n",
        "import matplotlib.pyplot as plt\n"
      ]
    },
    {
      "cell_type": "markdown",
      "metadata": {
        "id": "cr-VFIIupoQX"
      },
      "source": [
        "Load the database"
      ]
    },
    {
      "cell_type": "markdown",
      "metadata": {
        "id": "zQTQUf8SJpFE"
      },
      "source": [
        "K-NN algorithm It giving wrong output"
      ]
    },
    {
      "cell_type": "code",
      "execution_count": null,
      "metadata": {
        "colab": {
          "base_uri": "https://localhost:8080/"
        },
        "id": "ISn6ZZ45dTAX",
        "outputId": "2abe7795-1085-49cd-b5f1-a1f7bac458b4"
      },
      "outputs": [
        {
          "output_type": "stream",
          "name": "stdout",
          "text": [
            "Columns in the DataFrame:\n",
            "Index(['CNumber', 'Name of the Student', 'IoT', 'SE', 'HS-OB', 'OE1- SC',\n",
            "       'OEI-ICCF', 'IOTL', 'Defaulter(IoT)', 'Defaulter(SE)',\n",
            "       'Defaulter(HS-OB)', 'Defaulter(OE1- SC)', 'Defaulter(OEI-ICCF)',\n",
            "       'Defaulter(IOTL)', 'Defaulter'],\n",
            "      dtype='object')\n"
          ]
        }
      ],
      "source": [
        "# Load the dataset\n",
        "df = pd.read_csv(\"/content/drive/MyDrive/ML datasets/DefaulterList - Sheet1 (1).csv\")\n",
        "\n",
        "# Encode the target variable\n",
        "le = LabelEncoder()\n",
        "df['Defaulter'] = le.fit_transform(df['Defaulter'])\n",
        "print(\"Columns in the DataFrame:\")\n",
        "print(df.columns)\n",
        "# Selecting only the specified columns for features\n",
        "selected_columns = ['IoT', 'SE', 'HS-OB', 'OE1- SC', 'OEI-ICCF', 'IOTL']\n",
        "X = df[selected_columns]\n",
        "# Target variable\n",
        "y = df['Defaulter']"
      ]
    },
    {
      "cell_type": "markdown",
      "metadata": {
        "id": "lwtdPXVFpva0"
      },
      "source": [
        "Training and Testing"
      ]
    },
    {
      "cell_type": "code",
      "execution_count": null,
      "metadata": {
        "colab": {
          "base_uri": "https://localhost:8080/"
        },
        "id": "MfZOhPwCeIgq",
        "outputId": "8a2de46d-cba2-4c64-af94-3202d983492f"
      },
      "outputs": [
        {
          "output_type": "stream",
          "name": "stdout",
          "text": [
            "Missing values in X_test: IoT         0\n",
            "SE          0\n",
            "HS-OB       0\n",
            "OE1- SC     0\n",
            "OEI-ICCF    0\n",
            "IOTL        0\n",
            "dtype: int64\n"
          ]
        }
      ],
      "source": [
        "# Splitting the dataset into the Training set and Test set\n",
        "X_train, X_test, y_train, y_test = train_test_split(X, y, test_size=0.3, random_state=42)\n",
        "\n",
        "print(\"Missing values in X_test:\", X_test.isnull().sum())"
      ]
    },
    {
      "cell_type": "markdown",
      "metadata": {
        "id": "E4q8seeEpz2g"
      },
      "source": [
        "Remove the outliers"
      ]
    },
    {
      "cell_type": "code",
      "execution_count": null,
      "metadata": {
        "colab": {
          "base_uri": "https://localhost:8080/"
        },
        "id": "wPiOh0gPfXb5",
        "outputId": "d064bbbb-8f9e-4c47-b948-10d7e29ae316"
      },
      "outputs": [
        {
          "output_type": "stream",
          "name": "stdout",
          "text": [
            "Outliers for IoT :\n",
            "CNumber: C22018221430 , Name: AGARWAL MUSKAN , Subject: IoT , Value: 100\n",
            "CNumber: C22018221431 , Name: JOSHI ADITI ANANT , Subject: IoT , Value: 100\n"
          ]
        }
      ],
      "source": [
        "outlier_indices = []\n",
        "for column in selected_columns:\n",
        "    outlier_index = df[df[column] > 30].index\n",
        "    outlier_indices.extend(outlier_index)\n",
        "    if len(outlier_index) > 0:\n",
        "        print(\"Outliers for\", column, \":\")\n",
        "        for idx in outlier_index:\n",
        "            print(\"CNumber:\", df.at[idx, 'CNumber'], \", Name:\", df.at[idx, 'Name of the Student'], \", Subject:\", column, \", Value:\", df.at[idx, column])\n",
        "\n",
        "# Remove outliers from the dataset\n",
        "df.drop(outlier_indices, inplace=True)\n"
      ]
    },
    {
      "cell_type": "markdown",
      "metadata": {
        "id": "TVC9m7xDp8MR"
      },
      "source": [
        "Implementing Random Forest"
      ]
    },
    {
      "cell_type": "code",
      "execution_count": null,
      "metadata": {
        "colab": {
          "base_uri": "https://localhost:8080/"
        },
        "id": "OfKzWP3jjM2p",
        "outputId": "ff99aebe-b045-4755-fbf8-3c2dbf68e6f8"
      },
      "outputs": [
        {
          "output_type": "stream",
          "name": "stdout",
          "text": [
            "Classification Report:\n",
            "              precision    recall  f1-score   support\n",
            "\n",
            "           0       1.00      0.96      0.98        23\n",
            "           1       0.50      1.00      0.67         1\n",
            "\n",
            "    accuracy                           0.96        24\n",
            "   macro avg       0.75      0.98      0.82        24\n",
            "weighted avg       0.98      0.96      0.96        24\n",
            "\n"
          ]
        }
      ],
      "source": [
        "from sklearn.ensemble import RandomForestClassifier\n",
        "# Initialize the Random Forest classifier\n",
        "rf_classifier = RandomForestClassifier(n_estimators=100, random_state=42)\n",
        "\n",
        "# Train the classifier\n",
        "rf_classifier.fit(X_train, y_train)\n",
        "\n",
        "# Predictions on the test set\n",
        "y_pred = rf_classifier.predict(X_test)\n",
        "\n",
        "# Evaluate the classifier\n",
        "print(\"Classification Report:\")\n",
        "print(classification_report(y_test, y_pred))"
      ]
    },
    {
      "cell_type": "markdown",
      "metadata": {
        "id": "9vtCRJuNqa_6"
      },
      "source": [
        "Conusion Matrix"
      ]
    },
    {
      "cell_type": "code",
      "execution_count": null,
      "metadata": {
        "colab": {
          "base_uri": "https://localhost:8080/",
          "height": 564
        },
        "id": "Ags5wC2TqYyE",
        "outputId": "be591881-a6a7-4ef5-866d-2a54502d2cc8"
      },
      "outputs": [
        {
          "output_type": "display_data",
          "data": {
            "text/plain": [
              "<Figure size 800x600 with 2 Axes>"
            ],
            "image/png": "[encoded data removed]"
          },
          "metadata": {}
        }
      ],
      "source": [
        "import seaborn as sns\n",
        "import matplotlib.pyplot as plt\n",
        "from sklearn.metrics import confusion_matrix\n",
        "\n",
        "# Compute confusion matrix\n",
        "conf_matrix = confusion_matrix(y_test, y_pred)\n",
        "\n",
        "# Plot confusion matrix using seaborn heatmap\n",
        "plt.figure(figsize=(8, 6))\n",
        "sns.heatmap(conf_matrix, annot=True, fmt=\"d\", cmap=\"Blues\",\n",
        "            xticklabels=rf_classifier.classes_, yticklabels=rf_classifier.classes_)\n",
        "plt.title(\"Confusion Matrix\")\n",
        "plt.xlabel(\"Predicted Labels\")\n",
        "plt.ylabel(\"True Labels\")\n",
        "plt.show()\n"
      ]
    },
    {
      "cell_type": "markdown",
      "metadata": {
        "id": "0UWz2xZeqoOv"
      },
      "source": [
        "Pie chart"
      ]
    },
    {
      "cell_type": "code",
      "execution_count": null,
      "metadata": {
        "colab": {
          "base_uri": "https://localhost:8080/",
          "height": 521
        },
        "id": "1NEL9wu9lEiF",
        "outputId": "1496e019-9ec9-4ce5-cfe3-24f917851de2"
      },
      "outputs": [
        {
          "output_type": "display_data",
          "data": {
            "text/plain": [
              "<Figure size 800x600 with 1 Axes>"
            ],
            "image/png": "[encoded data removed]"
          },
          "metadata": {}
        }
      ],
      "source": [
        "# Map the label values to 'YES' and 'NO'\n",
        "df['Defaulter'] = df['Defaulter'].map({1: 'YES', 0: 'NO'})\n",
        "\n",
        "# Count the occurrences of each label in the target variable\n",
        "label_counts = df['Defaulter'].value_counts()\n",
        "\n",
        "# Plotting the pie chart\n",
        "plt.figure(figsize=(8, 6))\n",
        "plt.pie(label_counts, labels=label_counts.index, autopct='%1.1f%%', colors=['lightblue', 'lightgreen'])\n",
        "plt.title('Defaulter Classes Distribution')\n",
        "plt.show()"
      ]
    },
    {
      "cell_type": "markdown",
      "metadata": {
        "id": "wA1Frh16qGha"
      },
      "source": [
        "Side-by-side chart"
      ]
    },
    {
      "cell_type": "code",
      "execution_count": null,
      "metadata": {
        "colab": {
          "base_uri": "https://localhost:8080/",
          "height": 494
        },
        "id": "ZTYfMvUFldSR",
        "outputId": "086f2e15-ec11-478b-a9b4-767d9ff809e8"
      },
      "outputs": [
        {
          "output_type": "display_data",
          "data": {
            "text/plain": [
              "<Figure size 1000x600 with 1 Axes>"
            ],
            "image/png": "[encoded data removed]"
          },
          "metadata": {}
        }
      ],
      "source": [
        "import matplotlib.pyplot as plt\n",
        "\n",
        "# Count the occurrences of \"YES\" and \"NO\" for each subject column\n",
        "defaulter_counts = {}\n",
        "subjects = ['IoT', 'SE', 'HS-OB', 'OE1- SC', 'OEI-ICCF', 'IOTL']\n",
        "\n",
        "for subject in subjects:\n",
        "    counts = df['Defaulter(' + subject + ')'].value_counts()\n",
        "    defaulter_counts[subject] = counts\n",
        "\n",
        "# Extract counts for YES and NO\n",
        "yes_counts = [defaulter_counts[subject].get('YES', 0) for subject in subjects]\n",
        "no_counts = [defaulter_counts[subject].get('NO', 0) for subject in subjects]\n",
        "\n",
        "# Plotting\n",
        "fig, ax = plt.subplots(figsize=(10, 6))\n",
        "\n",
        "# Bar width\n",
        "bar_width = 0.35\n",
        "\n",
        "# Bar positions\n",
        "bar_positions = range(len(subjects))\n",
        "\n",
        "# Plotting \"NO\" counts\n",
        "ax.bar([pos - bar_width/2 for pos in bar_positions], no_counts, bar_width, label='NO', color='lightgreen')\n",
        "\n",
        "# Plotting \"YES\" counts\n",
        "ax.bar([pos + bar_width/2 for pos in bar_positions], yes_counts, bar_width, label='YES', color='lightblue')\n",
        "\n",
        "# Adding labels and title\n",
        "ax.set_ylabel('Count')\n",
        "ax.set_title('Defaulter Classes Distribution for Each Subject')\n",
        "ax.set_xticks(bar_positions)\n",
        "ax.set_xticklabels(subjects)\n",
        "ax.legend()\n",
        "\n",
        "plt.xticks(rotation=45)\n",
        "plt.show()\n"
      ]
    },
    {
      "cell_type": "markdown",
      "metadata": {
        "id": "Msd4-npvqsZt"
      },
      "source": [
        "Testing"
      ]
    },
    {
      "cell_type": "code",
      "execution_count": null,
      "metadata": {
        "colab": {
          "base_uri": "https://localhost:8080/"
        },
        "id": "4RV2fIaneZbF",
        "outputId": "0cf0bf2a-b1e3-41b5-c438-d124831f0366"
      },
      "outputs": [
        {
          "output_type": "stream",
          "name": "stdout",
          "text": [
            "Predicted Defaulter Label: YES\n"
          ]
        }
      ],
      "source": [
        "#USER INPUT TESTING\n",
        "student_attendance = {\n",
        "    'IoT': 1,\n",
        "    'SE': 1,\n",
        "    'HS-OB':10,\n",
        "    'OE1- SC': 12,\n",
        "    'OEI-ICCF': 0,\n",
        "    'IOTL': 0\n",
        "}\n",
        "\n",
        "# Convert the student's attendance into DataFrame\n",
        "student_df = pd.DataFrame([student_attendance])\n",
        "\n",
        "# Predict whether the student is a defaulter or not using Random Forest classifier\n",
        "defaulter_prediction = rf_classifier.predict(student_df)\n",
        "defaulter_prediction_label = le.inverse_transform(defaulter_prediction)\n",
        "print(\"Predicted Defaulter Label:\", defaulter_prediction_label[0])\n",
        "\n"
      ]
    },
    {
      "cell_type": "markdown",
      "metadata": {
        "id": "goIaqQ8JPJzn"
      },
      "source": [
        "Predict Defaulter for next month data"
      ]
    },
    {
      "cell_type": "code",
      "execution_count": null,
      "metadata": {
        "colab": {
          "base_uri": "https://localhost:8080/"
        },
        "id": "w6lobsLGKvQ9",
        "outputId": "fff98714-ee2d-4297-9924-92259ec2e331"
      },
      "outputs": [
        {
          "output_type": "stream",
          "name": "stdout",
          "text": [
            "0      NO\n",
            "1      NO\n",
            "2      NO\n",
            "3      NO\n",
            "4      NO\n",
            "     ... \n",
            "72     NO\n",
            "73     NO\n",
            "74     NO\n",
            "75    YES\n",
            "76     NO\n",
            "Name: Defaulter, Length: 77, dtype: object\n"
          ]
        }
      ],
      "source": [
        "\n",
        "\n",
        "# Load the dataset\n",
        "df1 = pd.read_csv(\"/content/Defaulter_NextMonth.csv\")\n",
        "\n",
        "# Initialize the LabelEncoder\n",
        "le = LabelEncoder()\n",
        "\n",
        "# Fit the LabelEncoder on the target variable 'Defaulter'\n",
        "le.fit(df1['Defaulter'])\n",
        "\n",
        "# Selecting only the specified columns for features\n",
        "selected_columns = ['IoT', 'SE', 'HS-OB', 'OE1- SC', 'OEI-ICCF', 'IOTL']\n",
        "X1 = df1[selected_columns]\n",
        "\n",
        "# Predict using the Random Forest classifier\n",
        "y_pred = rf_classifier.predict(X1)\n",
        "\n",
        "# Map predictions to 'Yes' and 'No' labels\n",
        "y_pred_labels = ['YES' if label == 1 else 'NO' for label in y_pred]\n",
        "\n",
        "# Assign predicted labels to the 'Defaulter' column\n",
        "df1['Defaulter'] = y_pred_labels\n",
        "\n",
        "# Save the DataFrame back to the CSV file\n",
        "df1.to_csv(\"/content/Defaulter_NextMonth.csv\", index=False)\n",
        "print(df1[\"Defaulter\"])\n",
        "\n"
      ]
    },
    {
      "cell_type": "markdown",
      "metadata": {
        "id": "YIpNR2iXRj6E"
      },
      "source": [
        "Logistic regression is also giving wrong output"
      ]
    },
    {
      "cell_type": "code",
      "execution_count": null,
      "metadata": {
        "colab": {
          "base_uri": "https://localhost:8080/"
        },
        "id": "qLfGpupcPt9k",
        "outputId": "295cb2c4-b30b-44f6-db9c-dc639643f181"
      },
      "outputs": [
        {
          "name": "stdout",
          "output_type": "stream",
          "text": [
            "Classification Report on Test Set:\n",
            "              precision    recall  f1-score   support\n",
            "\n",
            "           0       1.00      0.88      0.93        16\n",
            "           1       0.00      0.00      0.00         0\n",
            "\n",
            "    accuracy                           0.88        16\n",
            "   macro avg       0.50      0.44      0.47        16\n",
            "weighted avg       1.00      0.88      0.93        16\n",
            "\n",
            "Predicted Defaulter Label: YES\n"
          ]
        },
        {
          "name": "stderr",
          "output_type": "stream",
          "text": [
            "/usr/local/lib/python3.10/dist-packages/sklearn/metrics/_classification.py:1344: UndefinedMetricWarning: Recall and F-score are ill-defined and being set to 0.0 in labels with no true samples. Use `zero_division` parameter to control this behavior.\n",
            "  _warn_prf(average, modifier, msg_start, len(result))\n",
            "/usr/local/lib/python3.10/dist-packages/sklearn/metrics/_classification.py:1344: UndefinedMetricWarning: Recall and F-score are ill-defined and being set to 0.0 in labels with no true samples. Use `zero_division` parameter to control this behavior.\n",
            "  _warn_prf(average, modifier, msg_start, len(result))\n",
            "/usr/local/lib/python3.10/dist-packages/sklearn/metrics/_classification.py:1344: UndefinedMetricWarning: Recall and F-score are ill-defined and being set to 0.0 in labels with no true samples. Use `zero_division` parameter to control this behavior.\n",
            "  _warn_prf(average, modifier, msg_start, len(result))\n"
          ]
        }
      ],
      "source": [
        "from sklearn.linear_model import LogisticRegression\n",
        "\n",
        "# Load the dataset\n",
        "df2 = pd.read_csv(\"/content/drive/MyDrive/ML datasets/DefaulterList - Sheet1 (1).csv\")\n",
        "\n",
        "# Encode the target variable\n",
        "le = LabelEncoder()\n",
        "df2['Defaulter'] = le.fit_transform(df2['Defaulter'])\n",
        "\n",
        "# Selecting only the specified columns for features\n",
        "selected_columns = ['IoT', 'SE', 'HS-OB', 'OE1- SC', 'OEI-ICCF', 'IOTL']\n",
        "X = df2[selected_columns]\n",
        "y = df2['Defaulter']\n",
        "\n",
        "# Split the data into training and testing sets\n",
        "X_train, X_test, y_train, y_test = train_test_split(X, y, test_size=0.2, random_state=42)\n",
        "\n",
        "# Initialize the Logistic Regression classifier\n",
        "logistic_regression = LogisticRegression()\n",
        "\n",
        "# Train the classifier\n",
        "logistic_regression.fit(X_train, y_train)\n",
        "\n",
        "# Evaluate the classifier on the test set\n",
        "y_pred = logistic_regression.predict(X_test)\n",
        "print(\"Classification Report on Test Set:\")\n",
        "print(classification_report(y_test, y_pred))\n",
        "\n",
        "# Define the student's attendance data for prediction\n",
        "student_attendance = {\n",
        "    'IoT': 10,\n",
        "    'SE': 10,\n",
        "    'HS-OB': 10,\n",
        "    'OE1- SC': 12,\n",
        "    'OEI-ICCF': 0,\n",
        "    'IOTL': 0\n",
        "}\n",
        "\n",
        "# Convert the student's attendance into DataFrame\n",
        "student_df = pd.DataFrame([student_attendance])\n",
        "\n",
        "# Predict whether the student is a defaulter or not using Logistic Regression classifier\n",
        "defaulter_prediction = logistic_regression.predict(student_df)\n",
        "\n",
        "# Convert the predicted label back to the original label\n",
        "defaulter_prediction_label = le.inverse_transform(defaulter_prediction)\n",
        "\n",
        "print(\"Predicted Defaulter Label:\", defaulter_prediction_label[0])\n",
        "\n"
      ]
    },
    {
      "cell_type": "markdown",
      "metadata": {
        "id": "55Z1FwiWp3mR"
      },
      "source": [
        "Implementing the KNN model"
      ]
    },
    {
      "cell_type": "code",
      "execution_count": null,
      "metadata": {
        "colab": {
          "base_uri": "https://localhost:8080/"
        },
        "id": "jfWcf6UosC24",
        "outputId": "5757cd0c-6c72-4f08-ec3a-0d688ec26c28"
      },
      "outputs": [
        {
          "name": "stdout",
          "output_type": "stream",
          "text": [
            "Classification Report:\n",
            "              precision    recall  f1-score   support\n",
            "\n",
            "           0       1.00      1.00      1.00        23\n",
            "           1       1.00      1.00      1.00         1\n",
            "\n",
            "    accuracy                           1.00        24\n",
            "   macro avg       1.00      1.00      1.00        24\n",
            "weighted avg       1.00      1.00      1.00        24\n",
            "\n"
          ]
        }
      ],
      "source": [
        "from sklearn.neighbors import KNeighborsClassifier\n",
        "from sklearn.metrics import classification_report\n",
        "\n",
        "# Initialize the KNN classifier\n",
        "knn_classifier = KNeighborsClassifier(n_neighbors=5)\n",
        "\n",
        "# Train the classifier\n",
        "knn_classifier.fit(X_train, y_train)\n",
        "\n",
        "# Predictions on the test set\n",
        "y_pred = knn_classifier.predict(X_test)\n",
        "\n",
        "# Evaluate the classifier\n",
        "print(\"Classification Report:\")\n",
        "print(classification_report(y_test, y_pred))"
      ]
    }
  ],
  "metadata": {
    "colab": {
      "provenance": [],
      "include_colab_link": true
    },
    "kernelspec": {
      "display_name": "Python 3",
      "name": "python3"
    },
    "language_info": {
      "name": "python"
    }
  },
  "nbformat": 4,
  "nbformat_minor": 0
}